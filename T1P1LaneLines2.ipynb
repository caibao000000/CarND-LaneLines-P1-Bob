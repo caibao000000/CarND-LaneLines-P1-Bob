{
 "cells": [
  {
   "cell_type": "markdown",
   "metadata": {},
   "source": [
    "This is the Project 1 for the Term 1. This file is supposed to mark the lane lines for the video."
   ]
  },
  {
   "cell_type": "markdown",
   "metadata": {},
   "source": [
    "Import the needed libraries."
   ]
  },
  {
   "cell_type": "code",
   "execution_count": 1,
   "metadata": {},
   "outputs": [],
   "source": [
    "import matplotlib.pyplot as plt\n",
    "import matplotlib.image as mpimg\n",
    "import numpy as np\n",
    "import cv2\n",
    "import tensorflow as tf\n",
    "# Import everything needed to edit/save/watch video clips\n",
    "import imageio\n",
    "imageio.plugins.ffmpeg.download()\n",
    "\n",
    "from moviepy.editor import VideoFileClip\n",
    "from IPython.display import HTML"
   ]
  },
  {
   "cell_type": "code",
   "execution_count": 2,
   "metadata": {},
   "outputs": [],
   "source": [
    "import math\n",
    "\n",
    "def grayscale(img):\n",
    "# Applies the Grayscale transform. This will return an image with only one color channel\n",
    "# NOTE: to see the returned image as grayscale(assuming your grayscaled image is called 'gray')\n",
    "# you should call plt.imshow(gray, cmap='gray')\n",
    "    return cv2.cvtColor(img, cv2.COLOR_RGB2GRAY)\n",
    "    # Or use BGR2GRAY if you read an image with cv2.imread()\n",
    "    # return cv2.cvtColor(img, cv2.COLOR_BGR2GRAY)\n",
    "    \n",
    "def canny(img, low_threshold, high_threshold):\n",
    "    # Applies the Canny transform\n",
    "    return cv2.Canny(img, low_threshold, high_threshold)\n",
    "\n",
    "def gaussian_blur(img, kernel_size):\n",
    "    # Applies a Gaussian Noise kernel\n",
    "    return cv2.GaussianBlur(img, (kernel_size, kernel_size), 0)\n",
    "\n",
    "def region_of_interest(img, vertices):\n",
    "    # Applies an image mask. Only keeps the region of the image defined by the polygon formed from `vertices`. \n",
    "    # The rest of the image is set to black. Vertices` should be a numpy array of integer points.\n",
    "    #defining a blank mask to start with\n",
    "    mask = np.zeros_like(img)\n",
    "    \n",
    "    #defining a 3 channel or 1 channel color to fill the mask with depending on the input image\n",
    "    if len(img.shape) > 2:\n",
    "        channel_count = img.shape[2]  # i.e. 3 or 4 depending on your image\n",
    "        ignore_mask_color = (255,) * channel_count\n",
    "    else:\n",
    "        ignore_mask_color = 255\n",
    "        \n",
    "    #filling pixels inside the polygon defined by \"vertices\" with the fill color    \n",
    "    cv2.fillPoly(mask, vertices, ignore_mask_color)\n",
    "    \n",
    "    #returning the image only where mask pixels are nonzero\n",
    "    masked_image = cv2.bitwise_and(img, mask)\n",
    "    return masked_image\n",
    "\n",
    "def hough_lines(img, rho, theta, threshold, min_line_len, max_line_gap):\n",
    "    lines = cv2.HoughLinesP(img, rho, theta, threshold, np.array([]), minLineLength=min_line_len, maxLineGap=max_line_gap)\n",
    "    line_img = np.zeros((img.shape[0], img.shape[1], 3), dtype=np.uint8)\n",
    "    draw_lanes(line_img, lines)\n",
    "    return line_img\n",
    "\n",
    "def draw_lanes(img, lines, color=[255, 0, 0], thickness=8):\n",
    "    left_lines, right_lines = [], []\n",
    "    for line in lines:\n",
    "        for x1, y1, x2, y2 in line:\n",
    "            k = (y2 - y1) / (x2 - x1)\n",
    "            if k < 0:\n",
    "                left_lines.append(line)\n",
    "            else:\n",
    "                right_lines.append(line)\n",
    "  \n",
    "    if (len(left_lines) <= 0 or len(right_lines) <= 0):\n",
    "        return img\n",
    "  \n",
    "    clean_lines(left_lines, 0.1)\n",
    "    clean_lines(right_lines, 0.1)\n",
    "    left_points = [(x1, y1) for line in left_lines for x1,y1,x2,y2 in line]\n",
    "    left_points = left_points + [(x2, y2) for line in left_lines for x1,y1,x2,y2 in line]\n",
    "    right_points = [(x1, y1) for line in right_lines for x1,y1,x2,y2 in line]\n",
    "    right_points = right_points + [(x2, y2) for line in right_lines for x1,y1,x2,y2 in line]\n",
    "  \n",
    "    left_vtx = extend_lane(left_points, 325, img.shape[0])\n",
    "    right_vtx = extend_lane(right_points, 325, img.shape[0])\n",
    "  \n",
    "    cv2.line(img, left_vtx[0], left_vtx[1], color, thickness)\n",
    "    cv2.line(img, right_vtx[0], right_vtx[1], color, thickness)\n",
    "    return img\n",
    "  \n",
    "def clean_lines(lines, threshold):\n",
    "    slope = [(y2 - y1) / (x2 - x1) for line in lines for x1, y1, x2, y2 in line]\n",
    "    while len(lines) > 0:\n",
    "        mean = np.mean(slope)\n",
    "        diff = [abs(s - mean) for s in slope]\n",
    "        idx = np.argmax(diff)\n",
    "        if diff[idx] > threshold:\n",
    "            slope.pop(idx)\n",
    "            lines.pop(idx)\n",
    "        else:\n",
    "             break\n",
    "    return lines\n",
    "  \n",
    "def extend_lane(point_list, ymin, ymax):\n",
    "    x = [p[0] for p in point_list]\n",
    "    y = [p[1] for p in point_list]\n",
    "    fit = np.polyfit(y, x, 1)\n",
    "    fit_fn = np.poly1d(fit)\n",
    "  \n",
    "    xmin = int(fit_fn(ymin))\n",
    "    xmax = int(fit_fn(ymax))\n",
    "  \n",
    "    return [(xmin, ymin), (xmax, ymax)]\n",
    "\n",
    "# Python 3 has support for cool math symbols.\n",
    "\n",
    "def weighted_img(img, initial_img, α=0.8, β=1., γ=0.):\n",
    "    #`img` is the output of the hough_lines(), An image with lines drawn on it.Should be a blank image (all black) with lines drawn on it.\n",
    "    #`initial_img` should be the image before any processing.\n",
    "    \n",
    "    return cv2.addWeighted(initial_img, α, img, β, γ)"
   ]
  },
  {
   "cell_type": "code",
   "execution_count": 17,
   "metadata": {},
   "outputs": [],
   "source": [
    "def picture_process(img):\n",
    "    grayimg = grayscale(img)\n",
    "    blurimg = gaussian_blur(grayimg, 5)\n",
    "    edges = canny(blurimg, 50, 150)\n",
    "\n",
    "    imshape = img.shape\n",
    "    vertices = np.array([[(60,imshape[0]),(460, 320), (520, 320), (imshape[1],imshape[0])]], dtype=np.int32)\n",
    "    maskededges = region_of_interest(edges, vertices)\n",
    "    \n",
    "    # Define the Hough transform parameters\n",
    "    # Make a blank the same size as our image to draw on\n",
    "    rho = 2 # distance resolution in pixels of the Hough grid\n",
    "    theta = np.pi/180 # angular resolution in radians of the Hough grid\n",
    "    threshold = 30     # minimum number of votes (intersections in Hough grid cell)\n",
    "    min_line_length = 40 #minimum number of pixels making up a line\n",
    "    max_line_gap = 20    # maximum gap in pixels between connectable line segments\n",
    "    \n",
    "    line_img = hough_lines(maskededges, rho, theta, threshold, min_line_length, max_line_gap)\n",
    "\n",
    "    combo = cv2.addWeighted(img, 0.8, line_img, 1, 0)\n",
    "    \n",
    "    return combo"
   ]
  },
  {
   "cell_type": "code",
   "execution_count": null,
   "metadata": {},
   "outputs": [
    {
     "name": "stdout",
     "output_type": "stream",
     "text": [
      "[MoviePy] >>>> Building video test_output.mp4\n",
      "[MoviePy] Writing video test_output.mp4\n"
     ]
    },
    {
     "name": "stderr",
     "output_type": "stream",
     "text": [
      "  5%|██▏                                      | 12/222 [00:00<00:06, 34.78it/s]"
     ]
    }
   ],
   "source": [
    "img = mpimg.imread('solidWhiteCurve.jpg')\n",
    "combo = picture_process(img)\n",
    "plt.imshow(combo)\n",
    "new_clip_output = 'test_output.mp4'\n",
    "test_clip = VideoFileClip(\"solidWhiteRight.mp4\")\n",
    "new_clip = test_clip.fl_image(picture_process) #NOTE: this function expects color images!!\n",
    "%time new_clip.write_videofile(new_clip_output, audio=False)\n",
    "\n",
    "HTML(\"\"\"\n",
    "<video width=\"640\" height=\"300\" controls>\n",
    "  <source src=\"{0}\" type=\"video/mp4\">\n",
    "</video>\n",
    "\"\"\".format(new_clip_output))"
   ]
  },
  {
   "cell_type": "code",
   "execution_count": null,
   "metadata": {},
   "outputs": [],
   "source": []
  }
 ],
 "metadata": {
  "kernelspec": {
   "display_name": "Python 3",
   "language": "python",
   "name": "python3"
  },
  "language_info": {
   "codemirror_mode": {
    "name": "ipython",
    "version": 3
   },
   "file_extension": ".py",
   "mimetype": "text/x-python",
   "name": "python",
   "nbconvert_exporter": "python",
   "pygments_lexer": "ipython3",
   "version": "3.5.2"
  },
  "widgets": {
   "state": {},
   "version": "1.1.2"
  }
 },
 "nbformat": 4,
 "nbformat_minor": 2
}
